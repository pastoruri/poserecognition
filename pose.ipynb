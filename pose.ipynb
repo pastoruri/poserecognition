{
 "cells": [
  {
   "cell_type": "markdown",
   "metadata": {},
   "source": [
    "### Instalaciones"
   ]
  },
  {
   "cell_type": "code",
   "execution_count": null,
   "metadata": {},
   "outputs": [],
   "source": [
    "!pip install mediapipe\n",
    "!pip install opencv-python\n",
    "!pip install matplotlib"
   ]
  },
  {
   "cell_type": "markdown",
   "metadata": {},
   "source": [
    "### Imports"
   ]
  },
  {
   "cell_type": "code",
   "execution_count": 4,
   "metadata": {},
   "outputs": [],
   "source": [
    "import cv2\n",
    "import mediapipe as mp\n",
    "import math\n",
    "from matplotlib import pyplot as plt\n"
   ]
  },
  {
   "cell_type": "code",
   "execution_count": 5,
   "metadata": {},
   "outputs": [],
   "source": [
    "NOSE = 0\n",
    "LEFT_EYE_INNER = 1\n",
    "LEFT_EYE = 2\n",
    "LEFT_EYE_OUTER = 3\n",
    "RIGHT_EYE_INNER = 4\n",
    "RIGHT_EYE = 5\n",
    "RIGHT_EYE_OUTER = 6\n",
    "LEFT_EAR = 7\n",
    "RIGHT_EAR = 8\n",
    "MOUTH_LEFT = 9\n",
    "MOUTH_RIGHT = 10\n",
    "LEFT_SHOULDER = 11\n",
    "RIGHT_SHOULDER = 12\n",
    "LEFT_ELBOW = 13\n",
    "RIGHT_ELBOW = 14\n",
    "LEFT_WRIST = 15\n",
    "RIGHT_WRIST = 16\n",
    "LEFT_PINKY = 17\n",
    "RIGHT_PINKY = 18\n",
    "LEFT_INDEX = 19\n",
    "RIGHT_INDEX = 20\n",
    "LEFT_THUMB = 21\n",
    "RIGHT_THUMB = 22\n",
    "LEFT_HIP = 23\n",
    "RIGHT_HIP = 24\n",
    "LEFT_KNEE = 25\n",
    "RIGHT_KNEE = 26\n",
    "LEFT_ANKLE = 27\n",
    "RIGHT_ANKLE = 28\n",
    "LEFT_HEEL = 29\n",
    "RIGHT_HEEL = 30\n",
    "LEFT_FOOT_INDEX = 31\n",
    "RIGHT_FOOT_INDEX = 32\n",
    "  \n",
    "total_joints = {\n",
    "    0 : \"NOSE\", 1 : \"LEFT_EYE_INNER\",2 : \"LEFT_EYE\",3 : \"LEFT_EYE_OUTER\",\n",
    "    4 : \"RIGHT_EYE_INNER\",5 : \"RIGHT_EYE\",6 : \"RIGHT_EYE_OUTER\",\n",
    "    7 : \"LEFT_EAR\",8 : \"RIGHT_EAR\",9 : \"MOUTH_LEFT\",\n",
    "    10 : \"MOUTH_RIGHT\",11 : \"LEFT_SHOULDER\",12 : \"RIGHT_SHOULDER\",\n",
    "    13 : \"LEFT_ELBOW\",14 : \"RIGHT_ELBOW\",15 : \"LEFT_WRIST\",\n",
    "    16 : \"RIGHT_WRIST\",17 : \"LEFT_PINKY\",18 : \"RIGHT_PINKY\",\n",
    "    19 : \"LEFT_INDEX\",20 : \"RIGHT_INDEX\",21 : \"LEFT_THUMB\",\n",
    "    22 : \"RIGHT_THUMB\",23 : \"LEFT_HIP\",24 : \"RIGHT_HIP\",\n",
    "    25 : \"LEFT_KNEE\",26 : \"RIGHT_KNEE\",27 : \"LEFT_ANKLE\",\n",
    "    28 : \"RIGHT_ANKLE\",29 : \"LEFT_HEEL\",30 : \"RIGHT_HEEL\",\n",
    "    31 : \"LEFT_FOOT_INDEX\",32 : \"RIGHT_FOOT_INDEX\"\n",
    "}\n",
    "\n",
    "key_joints = {\n",
    "    11 : \"LEFT_SHOULDER\",\n",
    "    12 : \"RIGHT_SHOULDER\",\n",
    "    13 : \"LEFT_ELBOW\",\n",
    "    14 : \"RIGHT_ELBOW\",\n",
    "    15 : \"LEFT_WRIST\",\n",
    "    16 : \"RIGHT_WRIST\",\n",
    "    23 : \"LEFT_HIP\",\n",
    "    24 : \"RIGHT_HIP\",\n",
    "    25 : \"LEFT_KNEE\",\n",
    "    26 : \"RIGHT_KNEE\",\n",
    "    27 : \"LEFT_ANKLE\",\n",
    "    28 : \"RIGHT_ANKLE\",\n",
    "    29 : \"LEFT_HEEL\",\n",
    "    30 : \"RIGHT_HEEL\",\n",
    "}\n",
    "\n",
    "key_joints_idx = [11,12,13,14,15,16,23,24,25,26,27,28,29,30]\n",
    "\n",
    "visibility_threshold = 0.9\n",
    "circle_radius = 30\n",
    "circle_color = (128, 0, 255)\n",
    "\n"
   ]
  },
  {
   "cell_type": "code",
   "execution_count": 6,
   "metadata": {},
   "outputs": [],
   "source": [
    "def distance_2(p1:(float,float, float), p2:(float,float, float)):\n",
    "    distance = math.sqrt((p2[0] - p1[0])**2 + (p2[1] - p1[1])**2 + ((p2[2] - p1[2])**2))\n",
    "    return distance\n",
    "\n",
    "class Joint:\n",
    "    def __init__(self, x_, y_, z_, visibility_, id_):\n",
    "        self.x = x_\n",
    "        self.y = y_\n",
    "        self.z = z_\n",
    "        self.visibility = visibility_\n",
    "        self.id = id_\n",
    "    \n",
    "\n",
    "\n",
    "class Pose:\n",
    "    \n",
    "    def __init__(self, l_shoulder_ : (float,float, float), r_shoulder_ : (float,float, float)):\n",
    "        self.l_shoulder = l_shoulder_\n",
    "        self.r_shoulder = r_shoulder_\n",
    "        self.key_length = distance_2(self.l_shoulder,self.r_shoulder)\n",
    "\n",
    "    def __init__(self):\n",
    "\n",
    "        self.joints = {\n",
    "        \"LEFT_SHOULDER\":None,\n",
    "        \"RIGHT_SHOULDER\":None,\n",
    "        \"LEFT_ELBOW\":None,\n",
    "        \"RIGHT_ELBOW\":None,\n",
    "        \"LEFT_WRIST\":None,\n",
    "        \"RIGHT_WRIST\":None,\n",
    "        \"LEFT_HIP\":None,\n",
    "        \"RIGHT_HIP\":None,\n",
    "        \"LEFT_KNEE\":None,\n",
    "        \"RIGHT_KNEE\":None,\n",
    "        \"LEFT_ANKLE\":None,\n",
    "        \"RIGHT_ANKLE\":None,\n",
    "        \"LEFT_HEEL\":None,\n",
    "        \"RIGHT_HEEL\":None,\n",
    "        }\n",
    "    \n",
    "    def add_joint(self, joint_ : Joint):\n",
    "        joint_name = key_joints[joint_.id]\n",
    "        self.joints[joint_name] = joint_\n",
    "\n",
    "    def add_circles(self, image):\n",
    "        for joint_name,joint in self.joints.items():\n",
    "            if joint.visibility > visibility_threshold:\n",
    "                cv2.circle(image, (joint.x,joint.y), circle_radius, circle_color , -1)\n"
   ]
  },
  {
   "cell_type": "code",
   "execution_count": 8,
   "metadata": {},
   "outputs": [
    {
     "data": {
      "image/png": "[encoded data removed]",
      "text/plain": [
       "<Figure size 640x480 with 1 Axes>"
      ]
     },
     "metadata": {},
     "output_type": "display_data"
    }
   ],
   "source": [
    "mp_drawing = mp.solutions.drawing_utils\n",
    "mp_pose = mp.solutions.pose\n",
    "image_name = 'image4.jpeg'\n",
    "\n",
    "with mp_pose.Pose(static_image_mode = True) as pose:\n",
    "\n",
    "    image = cv2.imread(image_name)\n",
    "    height, width, _ = image.shape\n",
    "    image_rgb = cv2.cvtColor(image,cv2.COLOR_BGR2RGB)\n",
    "\n",
    "    blank = cv2.imread(\"blank.jpg\")\n",
    "    blank_rgb = cv2.cvtColor(blank,cv2.COLOR_BGR2RGB)\n",
    "\n",
    "    result = pose.process(image_rgb)\n",
    "    pose = Pose()\n",
    "    if result.pose_landmarks is not None:                \n",
    "        \n",
    "        for i in key_joints_idx:\n",
    "                        \n",
    "            x1 = int(result.pose_landmarks.landmark[i].x*width)\n",
    "            y1 = int(result.pose_landmarks.landmark[i].y*height)\n",
    "            z1 = 0\n",
    "            visibility = result.pose_landmarks.landmark[i].visibility\n",
    "            joint = Joint(x1,y1,z1,visibility, i)\n",
    "            pose.add_joint(joint)\n",
    "            #cv2.circle(image_rgb, (x1,y1), circle_radius, circle_color , -1)\n",
    "           \n",
    "        pose.add_circles(blank_rgb)\n",
    "        plt.imshow(blank_rgb)\n",
    "\n",
    "    \n",
    "\n"
   ]
  }
 ],
 "metadata": {
  "kernelspec": {
   "display_name": "Python 3",
   "language": "python",
   "name": "python3"
  },
  "language_info": {
   "codemirror_mode": {
    "name": "ipython",
    "version": 3
   },
   "file_extension": ".py",
   "mimetype": "text/x-python",
   "name": "python",
   "nbconvert_exporter": "python",
   "pygments_lexer": "ipython3",
   "version": "3.10.0"
  },
  "orig_nbformat": 4
 },
 "nbformat": 4,
 "nbformat_minor": 2
}
